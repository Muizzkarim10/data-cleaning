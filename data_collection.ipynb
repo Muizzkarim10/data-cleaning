{
  "nbformat": 4,
  "nbformat_minor": 0,
  "metadata": {
    "colab": {
      "provenance": [],
      "gpuType": "T4",
      "mount_file_id": "1Ba5Uac5TIMkZbDvePHIoNxS0QsWmnwkU",
      "authorship_tag": "ABX9TyNxOB1z4iqoqzP5KxxYk9Ok",
      "include_colab_link": true
    },
    "kernelspec": {
      "name": "python3",
      "display_name": "Python 3"
    },
    "language_info": {
      "name": "python"
    },
    "accelerator": "GPU"
  },
  "cells": [
    {
      "cell_type": "markdown",
      "metadata": {
        "id": "view-in-github",
        "colab_type": "text"
      },
      "source": [
        "<a href=\"https://colab.research.google.com/github/Muizzkarim10/data-cleaning/blob/main/data_collection.ipynb\" target=\"_parent\"><img src=\"https://colab.research.google.com/assets/colab-badge.svg\" alt=\"Open In Colab\"/></a>"
      ]
    },
    {
      "cell_type": "code",
      "source": [
        "from google.colab import userdata\n",
        "import pandas as pd\n",
        "import os\n",
        "from langchain_huggingface import HuggingFaceEndpoint\n"
      ],
      "metadata": {
        "colab": {
          "base_uri": "https://localhost:8080/",
          "height": 349
        },
        "id": "2HCq6uOL7-Wh",
        "outputId": "26c4ae59-29f9-48f2-c2e3-559209f290a7"
      },
      "execution_count": null,
      "outputs": [
        {
          "output_type": "error",
          "ename": "ModuleNotFoundError",
          "evalue": "No module named 'langchain_huggingface'",
          "traceback": [
            "\u001b[0;31m---------------------------------------------------------------------------\u001b[0m",
            "\u001b[0;31mModuleNotFoundError\u001b[0m                       Traceback (most recent call last)",
            "\u001b[0;32m<ipython-input-1-e503d9f073ef>\u001b[0m in \u001b[0;36m<cell line: 4>\u001b[0;34m()\u001b[0m\n\u001b[1;32m      2\u001b[0m \u001b[0;32mimport\u001b[0m \u001b[0mpandas\u001b[0m \u001b[0;32mas\u001b[0m \u001b[0mpd\u001b[0m\u001b[0;34m\u001b[0m\u001b[0;34m\u001b[0m\u001b[0m\n\u001b[1;32m      3\u001b[0m \u001b[0;32mimport\u001b[0m \u001b[0mos\u001b[0m\u001b[0;34m\u001b[0m\u001b[0;34m\u001b[0m\u001b[0m\n\u001b[0;32m----> 4\u001b[0;31m \u001b[0;32mfrom\u001b[0m \u001b[0mlangchain_huggingface\u001b[0m \u001b[0;32mimport\u001b[0m \u001b[0mHuggingFaceEndpoint\u001b[0m\u001b[0;34m\u001b[0m\u001b[0;34m\u001b[0m\u001b[0m\n\u001b[0m",
            "\u001b[0;31mModuleNotFoundError\u001b[0m: No module named 'langchain_huggingface'",
            "",
            "\u001b[0;31m---------------------------------------------------------------------------\u001b[0;32m\nNOTE: If your import is failing due to a missing package, you can\nmanually install dependencies using either !pip or !apt.\n\nTo view examples of installing some common dependencies, click the\n\"Open Examples\" button below.\n\u001b[0;31m---------------------------------------------------------------------------\u001b[0m\n"
          ],
          "errorDetails": {
            "actions": [
              {
                "action": "open_url",
                "actionText": "Open Examples",
                "url": "/notebooks/snippets/importing_libraries.ipynb"
              }
            ]
          }
        }
      ]
    },
    {
      "cell_type": "code",
      "source": [
        "# Get Hugging Face API token\n",
        "sec_key = userdata.get(\"HUGGINGFACEHUB_API_TOKEN\")\n",
        "print(sec_key)\n"
      ],
      "metadata": {
        "id": "Ga3ua-NA7-Tf"
      },
      "execution_count": null,
      "outputs": []
    },
    {
      "cell_type": "code",
      "source": [
        "# Get Hugging Face API token\n",
        "sec_key = userdata.get(\"HUGGINGFACEHUB_API_TOKEN\")\n",
        "print(sec_key)\n"
      ],
      "metadata": {
        "id": "_jDzuIR87-Qi"
      },
      "execution_count": null,
      "outputs": []
    },
    {
      "cell_type": "code",
      "source": [
        "df = pd.read_csv('names.csv')  # Your CSV file with plant names\n",
        "print(df.head())\n"
      ],
      "metadata": {
        "id": "8FNiC-UO7-Bj"
      },
      "execution_count": null,
      "outputs": []
    },
    {
      "cell_type": "code",
      "source": [
        "df = pd.read_csv('names.csv')  # Your CSV file with plant names\n",
        "print(df.head())\n"
      ],
      "metadata": {
        "id": "ZOWakJdR8PEG"
      },
      "execution_count": null,
      "outputs": []
    },
    {
      "cell_type": "code",
      "source": [
        "def get_plant_data(plant_name):\n",
        "    try:\n",
        "        # Ask the model for specific data about the plant\n",
        "        query = f\"Provide the following data for {plant_name}: temperature, soil temperature, precipitation, soil moisture, sunshine duration, and humidity.\"\n",
        "        response = llm.invoke(query)\n",
        "        return response\n",
        "    except Exception as e:\n",
        "        print(f\"Error retrieving data for {plant_name}: {e}\")\n",
        "        return None\n",
        "\n",
        "# Step 5: Collect Data for All Plants\n",
        "# Create a new column for the plant data\n",
        "df['Plant Data'] = \"\"\n",
        "\n",
        "for index, row in df.iterrows():\n",
        "    plant_name = row['Names']  # Column with plant names\n",
        "    plant_data = get_plant_data(plant_name)\n",
        "    df.at[index, 'Plant Data'] = plant_data if plant_data else \"No data\"\n",
        "\n",
        "# Step 6: Save the New Data to a CSV File\n",
        "df.to_csv('plants_with_data.csv', index=False)\n",
        "\n",
        "print(\"Data retrieval complete. Saved to 'plants_with_data.csv'.\")\n",
        "\n"
      ],
      "metadata": {
        "id": "rIKs_h3g8SNJ"
      },
      "execution_count": null,
      "outputs": []
    }
  ]
}