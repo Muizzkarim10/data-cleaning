{
 "cells": [
  {
   "cell_type": "code",
   "execution_count": null,
   "metadata": {},
   "outputs": [],
   "source": [
    "from google.colab import userdata\n",
    "import pandas as pd\n",
    "import os\n",
    "from langchain_huggingface import HuggingFaceEndpoint"
   ]
  },
  {
   "cell_type": "code",
   "execution_count": null,
   "metadata": {},
   "outputs": [],
   "source": [
    "# Get Hugging Face API token\n",
    "sec_key = userdata.get(\"HUGGINGFACEHUB_API_TOKEN\")\n",
    "print(sec_key)"
   ]
  },
  {
   "cell_type": "code",
   "execution_count": null,
   "metadata": {},
   "outputs": [],
   "source": [
    "os.environ[\"HUGGINGFACEHUB_API_TOKEN\"] = sec_key"
   ]
  },
  {
   "cell_type": "code",
   "execution_count": null,
   "metadata": {},
   "outputs": [],
   "source": [
    "df = pd.read_csv('names.csv')  # Your CSV file with plant names\n",
    "print(df.head())"
   ]
  },
  {
   "cell_type": "code",
   "execution_count": null,
   "metadata": {},
   "outputs": [],
   "source": [
    "repo_id = \"mistralai/Mistral-7B-Instruct-v0.2\"\n",
    "llm = HuggingFaceEndpoint(repo_id=repo_id, max_length=128, temperature=0.7, token=sec_key)\n"
   ]
  },
  {
   "cell_type": "code",
   "execution_count": null,
   "metadata": {},
   "outputs": [],
   "source": [
    "# Step 4: Define the Function to Get Specific Plant Data\n",
    "def get_plant_data(plant_name):\n",
    "    try:\n",
    "        # Ask the model for specific data about the plant\n",
    "        query = f\"Provide the following data for {plant_name}: temperature, soil temperature, precipitation, soil moisture, sunshine duration, and humidity.\"\n",
    "        response = llm.invoke(query)\n",
    "        return response\n",
    "    except Exception as e:\n",
    "        print(f\"Error retrieving data for {plant_name}: {e}\")\n",
    "        return None\n",
    "\n",
    "# Step 5: Collect Data for All Plants\n",
    "# Create a new column for the plant data\n",
    "df['Plant Data'] = \"\"\n",
    "\n",
    "for index, row in df.iterrows():\n",
    "    plant_name = row['Names']  # Column with plant names\n",
    "    plant_data = get_plant_data(plant_name)\n",
    "    df.at[index, 'Plant Data'] = plant_data if plant_data else \"No data\"\n",
    "\n",
    "# Step 6: Save the New Data to a CSV File\n",
    "df.to_csv('plants_with_data.csv', index=False)\n",
    "\n",
    "print(\"Data retrieval complete. Saved to 'plants_with_data.csv'.\")"
   ]
  }
 ],
 "metadata": {
  "kernelspec": {
   "display_name": "myenv",
   "language": "python",
   "name": "python3"
  },
  "language_info": {
   "name": "python",
   "version": "3.13.0"
  }
 },
 "nbformat": 4,
 "nbformat_minor": 2
}
