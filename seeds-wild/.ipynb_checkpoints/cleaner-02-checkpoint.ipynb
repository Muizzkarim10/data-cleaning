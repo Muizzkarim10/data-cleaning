{
 "cells": [
  {
   "cell_type": "code",
   "execution_count": null,
   "id": "0de0c883",
   "metadata": {
    "vscode": {
     "languageId": "plaintext"
    }
   },
   "outputs": [],
   "source": [
    "from google.colab import userdata\n",
    "sec_key=userdata.get(\"HF_TOKEN\")\n",
    "print(sec_key)"
   ]
  },
  {
   "cell_type": "code",
   "execution_count": null,
   "id": "e12aa732",
   "metadata": {
    "vscode": {
     "languageId": "plaintext"
    }
   },
   "outputs": [],
   "source": [
    "from langchain_huggingface import HuggingFaceEndpoint"
   ]
  },
  {
   "cell_type": "code",
   "execution_count": null,
   "id": "7c1d19ba",
   "metadata": {
    "vscode": {
     "languageId": "plaintext"
    }
   },
   "outputs": [],
   "source": [
    "from google.colab import userdata\n",
    "sec_key=userdata.get(\"HUGGINGFACEHUB_API_TOKEN\")\n",
    "print(sec_key)"
   ]
  },
  {
   "cell_type": "code",
   "execution_count": null,
   "id": "05a38300",
   "metadata": {
    "vscode": {
     "languageId": "plaintext"
    }
   },
   "outputs": [],
   "source": [
    "import os\n",
    "os.environ[\"HUGGINGFACEHUB_API_TOKEN\"]=sec_key"
   ]
  },
  {
   "cell_type": "code",
   "execution_count": null,
   "id": "3066d750",
   "metadata": {
    "vscode": {
     "languageId": "plaintext"
    }
   },
   "outputs": [],
   "source": [
    "repo_id=\"mistralai/Mistral-7B-Instruct-v0.2\"\n",
    "llm=HuggingFaceEndpoint(repo_id=repo_id,max_length=128,temperature=0.7,token=sec_key)"
   ]
  },
  {
   "cell_type": "code",
   "execution_count": null,
   "id": "97b7c180",
   "metadata": {
    "vscode": {
     "languageId": "plaintext"
    }
   },
   "outputs": [],
   "source": [
    "# Step 1: Import Libraries and Set Up API Token\n",
    "from google.colab import userdata\n",
    "import pandas as pd\n",
    "import os\n",
    "from langchain_huggingface import HuggingFaceEndpoint\n",
    "\n",
    "# Get Hugging Face API token\n",
    "sec_key = userdata.get(\"HUGGINGFACEHUB_API_TOKEN\")\n",
    "print(sec_key)\n",
    "\n",
    "# Set the API token as an environment variable\n",
    "os.environ[\"HUGGINGFACEHUB_API_TOKEN\"] = sec_key\n",
    "\n",
    "# Step 2: Load the Plant Names from CSV\n",
    "df = pd.read_csv('names.csv')  # Your CSV file with plant names\n",
    "print(df.head())\n",
    "\n",
    "# Step 3: Initialize the Hugging Face Model\n",
    "repo_id = \"mistralai/Mistral-7B-Instruct-v0.2\"\n",
    "llm = HuggingFaceEndpoint(repo_id=repo_id, max_length=128, temperature=0.7, token=sec_key)\n",
    "\n",
    "# Step 4: Define the Function to Get Specific Plant Data\n",
    "def get_plant_data(plant_name):\n",
    "    try:\n",
    "        # Ask the model for specific data about the plant\n",
    "        query = f\"Provide the following data for {plant_name}: temperature, soil temperature, precipitation, soil moisture, sunshine duration, and humidity.\"\n",
    "        response = llm.invoke(query)\n",
    "        return response\n",
    "    except Exception as e:\n",
    "        print(f\"Error retrieving data for {plant_name}: {e}\")\n",
    "        return None\n",
    "\n",
    "# Step 5: Collect Data for All Plants\n",
    "# Create a new column for the plant data\n",
    "df['Plant Data'] = \"\"\n",
    "\n",
    "for index, row in df.iterrows():\n",
    "    plant_name = row['Names']  # Column with plant names\n",
    "    plant_data = get_plant_data(plant_name)\n",
    "    df.at[index, 'Plant Data'] = plant_data if plant_data else \"No data\"\n",
    "\n",
    "# Step 6: Save the New Data to a CSV File\n",
    "df.to_csv('plants_with_data.csv', index=False)\n",
    "\n",
    "print(\"Data retrieval complete. Saved to 'plants_with_data.csv'.\")\n"
   ]
  }
 ],
 "metadata": {
  "language_info": {
   "name": "python"
  }
 },
 "nbformat": 4,
 "nbformat_minor": 5
}
