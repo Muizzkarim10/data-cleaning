{
 "cells": [
  {
   "cell_type": "code",
   "execution_count": 1,
   "id": "0b8fdd24-85bb-4199-b47e-013318d6fd41",
   "metadata": {},
   "outputs": [],
   "source": [
    "import pandas as pd"
   ]
  },
  {
   "cell_type": "code",
   "execution_count": 14,
   "id": "c2252c4a-d406-418a-b2b4-4d899aac59f1",
   "metadata": {},
   "outputs": [],
   "source": [
    "df = pd.read_csv('final.csv')"
   ]
  },
  {
   "cell_type": "code",
   "execution_count": 16,
   "id": "76fd7c30-6407-4256-8040-834bc4832027",
   "metadata": {},
   "outputs": [
    {
     "data": {
      "text/plain": [
       "Names            14\n",
       "Description    3020\n",
       "url            3671\n",
       "dtype: int64"
      ]
     },
     "execution_count": 16,
     "metadata": {},
     "output_type": "execute_result"
    }
   ],
   "source": [
    "df.isnull().sum()"
   ]
  },
  {
   "cell_type": "code",
   "execution_count": 17,
   "id": "57e04cb4-0070-4b53-92c2-5f41e38feffc",
   "metadata": {},
   "outputs": [],
   "source": [
    "df_cleaned = df.dropna(subset=[df.columns[0]])"
   ]
  },
  {
   "cell_type": "code",
   "execution_count": 18,
   "id": "498f6dc3-5bab-44f2-a47d-0bdf615fbbe9",
   "metadata": {},
   "outputs": [
    {
     "data": {
      "text/plain": [
       "Names             0\n",
       "Description    3008\n",
       "url            3658\n",
       "dtype: int64"
      ]
     },
     "execution_count": 18,
     "metadata": {},
     "output_type": "execute_result"
    }
   ],
   "source": [
    "df_cleaned.isnull().sum()"
   ]
  },
  {
   "cell_type": "code",
   "execution_count": 20,
   "id": "c3d0b87f-112a-432b-b068-53f493ccc664",
   "metadata": {},
   "outputs": [],
   "source": [
    "df_cleaned.to_csv('final_data.csv', index=False)"
   ]
  },
  {
   "cell_type": "code",
   "execution_count": 21,
   "id": "22fdd4b2-27b5-4c77-9c6e-7844f633a98d",
   "metadata": {},
   "outputs": [],
   "source": [
    "df2 = pd.read_csv('final_data.csv')"
   ]
  },
  {
   "cell_type": "code",
   "execution_count": 22,
   "id": "753777d2-9fb2-443c-be95-4c0aecb400c7",
   "metadata": {},
   "outputs": [
    {
     "data": {
      "text/html": [
       "<div>\n",
       "<style scoped>\n",
       "    .dataframe tbody tr th:only-of-type {\n",
       "        vertical-align: middle;\n",
       "    }\n",
       "\n",
       "    .dataframe tbody tr th {\n",
       "        vertical-align: top;\n",
       "    }\n",
       "\n",
       "    .dataframe thead th {\n",
       "        text-align: right;\n",
       "    }\n",
       "</style>\n",
       "<table border=\"1\" class=\"dataframe\">\n",
       "  <thead>\n",
       "    <tr style=\"text-align: right;\">\n",
       "      <th></th>\n",
       "      <th>Names</th>\n",
       "      <th>Description</th>\n",
       "      <th>url</th>\n",
       "    </tr>\n",
       "  </thead>\n",
       "  <tbody>\n",
       "    <tr>\n",
       "      <th>0</th>\n",
       "      <td>Sunflower, Mexican Sunflower (Tithonia rotundi...</td>\n",
       "      <td>\\n\\t\\t\\t\\t\\n\\tDescription\\n\\nMexican Sunflower...</td>\n",
       "      <td>https://americanseedco.com/wp-content/uploads/...</td>\n",
       "    </tr>\n",
       "    <tr>\n",
       "      <th>1</th>\n",
       "      <td>Sunflower, Procut Horizon Pollenless</td>\n",
       "      <td>\\n\\t\\t\\t\\t\\n\\tDescription\\n\\nA brand new ProCu...</td>\n",
       "      <td>https://americanseedco.com/wp-content/uploads/...</td>\n",
       "    </tr>\n",
       "    <tr>\n",
       "      <th>2</th>\n",
       "      <td>Sunflower, Procut Peach</td>\n",
       "      <td>\\n\\t\\t\\t\\t\\n\\tDescription\\n\\nStunning, Peach-c...</td>\n",
       "      <td>https://americanseedco.com/wp-content/uploads/...</td>\n",
       "    </tr>\n",
       "    <tr>\n",
       "      <th>3</th>\n",
       "      <td>Sunflower, Procut Red Lemon BiColor Pollenless</td>\n",
       "      <td>\\n\\t\\t\\t\\t\\n\\tDescription\\n\\nBicolor flowers o...</td>\n",
       "      <td>https://americanseedco.com/wp-content/uploads/...</td>\n",
       "    </tr>\n",
       "    <tr>\n",
       "      <th>4</th>\n",
       "      <td>Sunflower, Autumn Beauty (90 days)</td>\n",
       "      <td>\\n\\t\\t\\t\\t\\n\\tDescription\\n\\nA mixture of yell...</td>\n",
       "      <td>https://americanseedco.com/wp-content/uploads/...</td>\n",
       "    </tr>\n",
       "  </tbody>\n",
       "</table>\n",
       "</div>"
      ],
      "text/plain": [
       "                                               Names  \\\n",
       "0  Sunflower, Mexican Sunflower (Tithonia rotundi...   \n",
       "1               Sunflower, Procut Horizon Pollenless   \n",
       "2                            Sunflower, Procut Peach   \n",
       "3     Sunflower, Procut Red Lemon BiColor Pollenless   \n",
       "4                 Sunflower, Autumn Beauty (90 days)   \n",
       "\n",
       "                                         Description  \\\n",
       "0  \\n\\t\\t\\t\\t\\n\\tDescription\\n\\nMexican Sunflower...   \n",
       "1  \\n\\t\\t\\t\\t\\n\\tDescription\\n\\nA brand new ProCu...   \n",
       "2  \\n\\t\\t\\t\\t\\n\\tDescription\\n\\nStunning, Peach-c...   \n",
       "3  \\n\\t\\t\\t\\t\\n\\tDescription\\n\\nBicolor flowers o...   \n",
       "4  \\n\\t\\t\\t\\t\\n\\tDescription\\n\\nA mixture of yell...   \n",
       "\n",
       "                                                 url  \n",
       "0  https://americanseedco.com/wp-content/uploads/...  \n",
       "1  https://americanseedco.com/wp-content/uploads/...  \n",
       "2  https://americanseedco.com/wp-content/uploads/...  \n",
       "3  https://americanseedco.com/wp-content/uploads/...  \n",
       "4  https://americanseedco.com/wp-content/uploads/...  "
      ]
     },
     "execution_count": 22,
     "metadata": {},
     "output_type": "execute_result"
    }
   ],
   "source": [
    "df2.head()"
   ]
  },
  {
   "cell_type": "code",
   "execution_count": 23,
   "id": "1ddd4d1a-3836-466c-96a3-e86fc4112323",
   "metadata": {},
   "outputs": [
    {
     "data": {
      "text/plain": [
       "Names             0\n",
       "Description    3008\n",
       "url            3658\n",
       "dtype: int64"
      ]
     },
     "execution_count": 23,
     "metadata": {},
     "output_type": "execute_result"
    }
   ],
   "source": [
    "df2.isnull().sum()"
   ]
  },
  {
   "cell_type": "code",
   "execution_count": 24,
   "id": "a7693b69-70db-461b-96a4-d6608fbd538f",
   "metadata": {},
   "outputs": [],
   "source": [
    "df2 = df2[['Names']]"
   ]
  },
  {
   "cell_type": "code",
   "execution_count": 25,
   "id": "9c6ac2ca-809b-409f-9073-73d37be91c75",
   "metadata": {},
   "outputs": [
    {
     "data": {
      "text/html": [
       "<div>\n",
       "<style scoped>\n",
       "    .dataframe tbody tr th:only-of-type {\n",
       "        vertical-align: middle;\n",
       "    }\n",
       "\n",
       "    .dataframe tbody tr th {\n",
       "        vertical-align: top;\n",
       "    }\n",
       "\n",
       "    .dataframe thead th {\n",
       "        text-align: right;\n",
       "    }\n",
       "</style>\n",
       "<table border=\"1\" class=\"dataframe\">\n",
       "  <thead>\n",
       "    <tr style=\"text-align: right;\">\n",
       "      <th></th>\n",
       "      <th>Names</th>\n",
       "    </tr>\n",
       "  </thead>\n",
       "  <tbody>\n",
       "    <tr>\n",
       "      <th>0</th>\n",
       "      <td>Sunflower, Mexican Sunflower (Tithonia rotundi...</td>\n",
       "    </tr>\n",
       "    <tr>\n",
       "      <th>1</th>\n",
       "      <td>Sunflower, Procut Horizon Pollenless</td>\n",
       "    </tr>\n",
       "    <tr>\n",
       "      <th>2</th>\n",
       "      <td>Sunflower, Procut Peach</td>\n",
       "    </tr>\n",
       "    <tr>\n",
       "      <th>3</th>\n",
       "      <td>Sunflower, Procut Red Lemon BiColor Pollenless</td>\n",
       "    </tr>\n",
       "    <tr>\n",
       "      <th>4</th>\n",
       "      <td>Sunflower, Autumn Beauty (90 days)</td>\n",
       "    </tr>\n",
       "  </tbody>\n",
       "</table>\n",
       "</div>"
      ],
      "text/plain": [
       "                                               Names\n",
       "0  Sunflower, Mexican Sunflower (Tithonia rotundi...\n",
       "1               Sunflower, Procut Horizon Pollenless\n",
       "2                            Sunflower, Procut Peach\n",
       "3     Sunflower, Procut Red Lemon BiColor Pollenless\n",
       "4                 Sunflower, Autumn Beauty (90 days)"
      ]
     },
     "execution_count": 25,
     "metadata": {},
     "output_type": "execute_result"
    }
   ],
   "source": [
    "df2.head()"
   ]
  },
  {
   "cell_type": "code",
   "execution_count": 26,
   "id": "d7f9ec88-f68a-4dfe-b44e-2e7dbc5d48a4",
   "metadata": {},
   "outputs": [],
   "source": [
    "df2.to_csv('names.csv', index=False)"
   ]
  },
  {
   "cell_type": "code",
   "execution_count": null,
   "id": "cdf3c2a0-f704-437e-b137-be88bf4da677",
   "metadata": {},
   "outputs": [],
   "source": []
  }
 ],
 "metadata": {
  "kernelspec": {
   "display_name": "Python 3 (ipykernel)",
   "language": "python",
   "name": "python3"
  },
  "language_info": {
   "codemirror_mode": {
    "name": "ipython",
    "version": 3
   },
   "file_extension": ".py",
   "mimetype": "text/x-python",
   "name": "python",
   "nbconvert_exporter": "python",
   "pygments_lexer": "ipython3",
   "version": "3.13.0"
  }
 },
 "nbformat": 4,
 "nbformat_minor": 5
}
