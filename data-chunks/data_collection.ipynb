{
 "cells": [
  {
   "cell_type": "markdown",
   "metadata": {
    "colab_type": "text",
    "id": "view-in-github"
   },
   "source": [
    "<a href=\"https://colab.research.google.com/github/Muizzkarim10/data-cleaning/blob/main/data_collection.ipynb\" target=\"_parent\"><img src=\"https://colab.research.google.com/assets/colab-badge.svg\" alt=\"Open In Colab\"/></a>"
   ]
  },
  {
   "cell_type": "code",
   "execution_count": null,
   "metadata": {
    "colab": {
     "base_uri": "https://localhost:8080/",
     "height": 349
    },
    "id": "2HCq6uOL7-Wh",
    "outputId": "26c4ae59-29f9-48f2-c2e3-559209f290a7"
   },
   "outputs": [],
   "source": [
    "from google.colab import userdata\n",
    "import pandas as pd\n",
    "import os\n",
    "from langchain_huggingface import HuggingFaceEndpoint\n"
   ]
  },
  {
   "cell_type": "code",
   "execution_count": null,
   "metadata": {
    "id": "Ga3ua-NA7-Tf"
   },
   "outputs": [],
   "source": [
    "# Get Hugging Face API token\n",
    "sec_key = userdata.get(\"HUGGINGFACEHUB_API_TOKEN\")\n",
    "print(sec_key)\n"
   ]
  },
  {
   "cell_type": "code",
   "execution_count": null,
   "metadata": {
    "id": "_jDzuIR87-Qi"
   },
   "outputs": [],
   "source": [
    "# Get Hugging Face API token\n",
    "sec_key = userdata.get(\"HUGGINGFACEHUB_API_TOKEN\")\n",
    "print(sec_key)\n"
   ]
  },
  {
   "cell_type": "code",
   "execution_count": null,
   "metadata": {
    "id": "8FNiC-UO7-Bj"
   },
   "outputs": [],
   "source": [
    "df = pd.read_csv('names.csv')  # Your CSV file with plant names\n",
    "print(df.head())\n"
   ]
  },
  {
   "cell_type": "code",
   "execution_count": null,
   "metadata": {
    "id": "ZOWakJdR8PEG"
   },
   "outputs": [],
   "source": [
    "df = pd.read_csv('names.csv')  # Your CSV file with plant names\n",
    "print(df.head())\n"
   ]
  },
  {
   "cell_type": "code",
   "execution_count": null,
   "metadata": {
    "id": "rIKs_h3g8SNJ"
   },
   "outputs": [],
   "source": [
    "def get_plant_data(plant_name):\n",
    "    try:\n",
    "        # Ask the model for specific data about the plant\n",
    "        query = f\"Provide the following data for {plant_name}: temperature, soil temperature, precipitation, soil moisture, sunshine duration, and humidity.\"\n",
    "        response = llm.invoke(query)\n",
    "        return response\n",
    "    except Exception as e:\n",
    "        print(f\"Error retrieving data for {plant_name}: {e}\")\n",
    "        return None\n",
    "\n",
    "# Step 5: Collect Data for All Plants\n",
    "# Create a new column for the plant data\n",
    "df['Plant Data'] = \"\"\n",
    "\n",
    "for index, row in df.iterrows():\n",
    "    plant_name = row['Names']  # Column with plant names\n",
    "    plant_data = get_plant_data(plant_name)\n",
    "    df.at[index, 'Plant Data'] = plant_data if plant_data else \"No data\"\n",
    "\n",
    "# Step 6: Save the New Data to a CSV File\n",
    "df.to_csv('plants_with_data.csv', index=False)\n",
    "\n",
    "print(\"Data retrieval complete. Saved to 'plants_with_data.csv'.\")\n",
    "\n"
   ]
  }
 ],
 "metadata": {
  "accelerator": "GPU",
  "colab": {
   "authorship_tag": "ABX9TyNxOB1z4iqoqzP5KxxYk9Ok",
   "gpuType": "T4",
   "include_colab_link": true,
   "mount_file_id": "1Ba5Uac5TIMkZbDvePHIoNxS0QsWmnwkU",
   "provenance": []
  },
  "kernelspec": {
   "display_name": "myenv",
   "language": "python",
   "name": "python3"
  },
  "language_info": {
   "codemirror_mode": {
    "name": "ipython",
    "version": 3
   },
   "file_extension": ".py",
   "mimetype": "text/x-python",
   "name": "python",
   "nbconvert_exporter": "python",
   "pygments_lexer": "ipython3",
   "version": "3.13.0"
  }
 },
 "nbformat": 4,
 "nbformat_minor": 0
}
